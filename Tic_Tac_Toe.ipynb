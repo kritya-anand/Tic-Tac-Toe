{
  "nbformat": 4,
  "nbformat_minor": 0,
  "metadata": {
    "colab": {
      "provenance": []
    },
    "kernelspec": {
      "name": "python3",
      "display_name": "Python 3"
    },
    "language_info": {
      "name": "python"
    }
  },
  "cells": [
    {
      "cell_type": "code",
      "execution_count": 382,
      "metadata": {
        "id": "Y5GXwhC2s4vb"
      },
      "outputs": [],
      "source": [
        "import numpy as np\n",
        "import random\n",
        "from time import sleep"
      ]
    },
    {
      "cell_type": "markdown",
      "source": [
        "# **Create a 3*3 Grid**"
      ],
      "metadata": {
        "id": "jtTrtc12qslT"
      }
    },
    {
      "cell_type": "code",
      "source": [
        "def create_board(size = 3 , initial_value = ' '):\n",
        "  return np.full((size,size),initial_value)"
      ],
      "metadata": {
        "id": "5XoNg9dcs56a"
      },
      "execution_count": 383,
      "outputs": []
    },
    {
      "cell_type": "markdown",
      "source": [
        "# **Check for Empty Places on Board**"
      ],
      "metadata": {
        "id": "AQ2P5ZInrRDF"
      }
    },
    {
      "cell_type": "code",
      "source": [
        "def empty_places(board):\n",
        "  possiblity = []\n",
        "\n",
        "  for i in range(len(board)):\n",
        "    for j in range(len(board)):\n",
        "      if board[i][j]==' ':\n",
        "        possiblity.append((i,j))\n",
        "\n",
        "  return possiblity"
      ],
      "metadata": {
        "id": "JbaPLYKVtP7B"
      },
      "execution_count": 384,
      "outputs": []
    },
    {
      "cell_type": "markdown",
      "source": [
        "# **Select a Random Place for the Player**"
      ],
      "metadata": {
        "id": "hb5p4cKg_HI1"
      }
    },
    {
      "cell_type": "code",
      "source": [
        "def random_place(board, player):\n",
        "    selection = empty_places(board)\n",
        "    current_loc = random.choice(selection)\n",
        "    board[current_loc] = player\n",
        "    return(board)"
      ],
      "metadata": {
        "id": "G5RE6zN5yWBD"
      },
      "execution_count": 385,
      "outputs": []
    },
    {
      "cell_type": "markdown",
      "source": [
        "# **Check Three Consecutive Marks**"
      ],
      "metadata": {
        "id": "7wmMa22H_UjM"
      }
    },
    {
      "cell_type": "code",
      "source": [
        "def row_win(board,player):\n",
        "  for i in range(len(board)):\n",
        "    win = True\n",
        "\n",
        "    for j in range(len(board)):\n",
        "      if board[i][j] != player:\n",
        "        win = False\n",
        "        continue\n",
        "\n",
        "    if win == True:\n",
        "        return(win)\n",
        "  return(win)"
      ],
      "metadata": {
        "id": "2YX1onlNj7wd"
      },
      "execution_count": 386,
      "outputs": []
    },
    {
      "cell_type": "code",
      "source": [
        "def col_win(board,player):\n",
        "  for i in range(len(board)):\n",
        "    win = True\n",
        "\n",
        "    for j in range(len(board)):\n",
        "      if board[j][i] != player:\n",
        "        win = False\n",
        "        continue\n",
        "\n",
        "    if win == True:\n",
        "        return(win)\n",
        "  return(win)"
      ],
      "metadata": {
        "id": "KgFjOxbakGDG"
      },
      "execution_count": 387,
      "outputs": []
    },
    {
      "cell_type": "code",
      "source": [
        "def dia_win_1(board,player):\n",
        "  for i in range(len(board)):\n",
        "      win = True\n",
        "\n",
        "      if board[i][i] != player:\n",
        "        win = False\n",
        "        break\n",
        "\n",
        "  return(win)"
      ],
      "metadata": {
        "id": "VycktcIekL1g"
      },
      "execution_count": 388,
      "outputs": []
    },
    {
      "cell_type": "code",
      "source": [
        "def dia_win_2(board,player):\n",
        "  for i in range(len(board)):\n",
        "    win = True\n",
        "\n",
        "    if board[len(board)-i-1][i]!= player:\n",
        "      win = False\n",
        "      break\n",
        "  return(win)\n",
        ""
      ],
      "metadata": {
        "id": "UWx4b_zdkcOg"
      },
      "execution_count": 389,
      "outputs": []
    },
    {
      "cell_type": "markdown",
      "source": [
        "# **Evaluates the Result of the Match**"
      ],
      "metadata": {
        "id": "TP0cdGjg_iH-"
      }
    },
    {
      "cell_type": "code",
      "source": [
        "def evaluate(board):\n",
        "  winner = 0\n",
        "\n",
        "  for player in ['X','O']:\n",
        "    if (row_win(board,player)or col_win(board,player)or dia_win_1(board,player) or dia_win_2(board,player)):\n",
        "      winner = player\n",
        "  if np.all(board!=' ') and winner == 0:\n",
        "    winner = \"Tie\"\n",
        "\n",
        "  return winner"
      ],
      "metadata": {
        "id": "RBOeSp7v8m7e"
      },
      "execution_count": 390,
      "outputs": []
    },
    {
      "cell_type": "markdown",
      "source": [
        "# **Main Function to Start the Game(Human v/s Bot)**"
      ],
      "metadata": {
        "id": "vvcCTJX__wuY"
      }
    },
    {
      "cell_type": "code",
      "source": [
        "def play_game():\n",
        "    board= create_board()\n",
        "    winner = 0\n",
        "    count = 1\n",
        "    print(board)\n",
        "    sleep(2)\n",
        "\n",
        "    while winner == 0:\n",
        "        for player in ['X', 'O']:\n",
        "            if player == 'X':\n",
        "              random_place(board,player)\n",
        "            else:\n",
        "              index = input(\"Enter row and column index: \")\n",
        "              x, y = map(int, index.strip('()').split(','))\n",
        "              while board[x][y] == 'X' or board[x][y] == 'O':\n",
        "                print(\"Enter valid index!!\")\n",
        "                index = input(\"Enter row and column index: \")\n",
        "                x, y = map(int, index.strip('()').split(','))\n",
        "              board[x][y] = 'O'\n",
        "            print(\"Board after \" + str(count) + \" move\")\n",
        "            print(board)\n",
        "            sleep(2)\n",
        "            count += 1\n",
        "            winner = evaluate(board)\n",
        "            if winner != 0:\n",
        "                break\n",
        "    return(winner)"
      ],
      "metadata": {
        "id": "tkm0u7Ju9ltp"
      },
      "execution_count": 391,
      "outputs": []
    },
    {
      "cell_type": "code",
      "source": [
        "print(\"Winner: \" + play_game())"
      ],
      "metadata": {
        "colab": {
          "base_uri": "https://localhost:8080/"
        },
        "id": "mRb7mf6e-HEq",
        "outputId": "6ea0bec3-1e2e-4959-ddb8-c7e4a497260c"
      },
      "execution_count": 392,
      "outputs": [
        {
          "output_type": "stream",
          "name": "stdout",
          "text": [
            "[[' ' ' ' ' ']\n",
            " [' ' ' ' ' ']\n",
            " [' ' ' ' ' ']]\n",
            "Board after 1 move\n",
            "[[' ' ' ' 'X']\n",
            " [' ' ' ' ' ']\n",
            " [' ' ' ' ' ']]\n",
            "Enter row and column index: 0,0\n",
            "Board after 2 move\n",
            "[['O' ' ' 'X']\n",
            " [' ' ' ' ' ']\n",
            " [' ' ' ' ' ']]\n",
            "Board after 3 move\n",
            "[['O' ' ' 'X']\n",
            " [' ' ' ' ' ']\n",
            " [' ' 'X' ' ']]\n",
            "Enter row and column index: 1,1\n",
            "Board after 4 move\n",
            "[['O' ' ' 'X']\n",
            " [' ' 'O' ' ']\n",
            " [' ' 'X' ' ']]\n",
            "Board after 5 move\n",
            "[['O' 'X' 'X']\n",
            " [' ' 'O' ' ']\n",
            " [' ' 'X' ' ']]\n",
            "Enter row and column index: 2,2\n",
            "Board after 6 move\n",
            "[['O' 'X' 'X']\n",
            " [' ' 'O' ' ']\n",
            " [' ' 'X' 'O']]\n",
            "Winner: O\n"
          ]
        }
      ]
    },
    {
      "cell_type": "markdown",
      "source": [
        "# **Bot v/s Human (Optimal Choice Selection Algorithm)**"
      ],
      "metadata": {
        "id": "WsJraBNeQfoR"
      }
    },
    {
      "cell_type": "code",
      "source": [
        "def create_board(size = 3 , initial_value = ' '):\n",
        "  return np.full((size,size),initial_value)"
      ],
      "metadata": {
        "id": "KGiHYUBoQ1pM"
      },
      "execution_count": 393,
      "outputs": []
    },
    {
      "cell_type": "markdown",
      "source": [
        "# **Optimal Choice Selection Algorithm for the Computer Player using Recursion**"
      ],
      "metadata": {
        "id": "QvuvvXy2SMEn"
      }
    },
    {
      "cell_type": "code",
      "source": [
        "def best_case(board,player):\n",
        "  for i in range(len(board)):\n",
        "    for j in range(len(board)):\n",
        "      if board[i][j]==' ':\n",
        "          board[i][j]= 'O'\n",
        "          if evaluate(board)== 'O':\n",
        "            return(board)\n",
        "          else:\n",
        "            board[i][j] = ' '\n",
        "\n",
        "  for i in range(len(board)):\n",
        "    for j in range(len(board)):\n",
        "      if board[i][j]==' ':\n",
        "        board[i][j] = 'X'\n",
        "        if evaluate(board) == 'X':\n",
        "          board[i][j]= 'O'\n",
        "          return(board)\n",
        "        else:\n",
        "          board[i][j] = ' '\n",
        "  random_place(board,player)\n",
        "  return(board)"
      ],
      "metadata": {
        "id": "xhzOpr7OQ5-o"
      },
      "execution_count": 394,
      "outputs": []
    },
    {
      "cell_type": "code",
      "source": [
        "def play_game_mod():\n",
        "    board= create_board()\n",
        "    winner = 0\n",
        "    count = 1\n",
        "    print(board)\n",
        "    sleep(2)\n",
        "\n",
        "    while winner == 0:\n",
        "        for player in ['X', 'O']:\n",
        "            if player == 'O':\n",
        "              best_case(board,player)\n",
        "            else:\n",
        "              index = input(\"Enter row and column index: \")\n",
        "              x, y = map(int, index.strip('()').split(','))\n",
        "              while board[x][y] == 'X' or board[x][y] == 'O':\n",
        "                print(\"Enter valid index!!\")\n",
        "                index = input(\"Enter row and column index: \")\n",
        "                x, y = map(int, index.strip('()').split(','))\n",
        "              board[x][y] = 'X'\n",
        "            print(\"Board after \" + str(count) + \" move\")\n",
        "            print(board)\n",
        "            sleep(2)\n",
        "            count += 1\n",
        "            winner = evaluate(board)\n",
        "            if winner != 0:\n",
        "                break\n",
        "    return(winner)"
      ],
      "metadata": {
        "id": "cAPbx2SdRCCc"
      },
      "execution_count": 395,
      "outputs": []
    },
    {
      "cell_type": "code",
      "source": [
        "print(\"Winner: \" + play_game_mod())"
      ],
      "metadata": {
        "colab": {
          "base_uri": "https://localhost:8080/"
        },
        "id": "S6y9MIRvR3L6",
        "outputId": "b5695de0-60b4-49e4-ed76-39dd19f11381"
      },
      "execution_count": 396,
      "outputs": [
        {
          "output_type": "stream",
          "name": "stdout",
          "text": [
            "[[' ' ' ' ' ']\n",
            " [' ' ' ' ' ']\n",
            " [' ' ' ' ' ']]\n",
            "Enter row and column index: 1,1\n",
            "Board after 1 move\n",
            "[[' ' ' ' ' ']\n",
            " [' ' 'X' ' ']\n",
            " [' ' ' ' ' ']]\n",
            "Board after 2 move\n",
            "[[' ' ' ' ' ']\n",
            " ['O' 'X' ' ']\n",
            " [' ' ' ' ' ']]\n",
            "Enter row and column index: 2,2\n",
            "Board after 3 move\n",
            "[[' ' ' ' ' ']\n",
            " ['O' 'X' ' ']\n",
            " [' ' ' ' 'X']]\n",
            "Board after 4 move\n",
            "[['O' ' ' ' ']\n",
            " ['O' 'X' ' ']\n",
            " [' ' ' ' 'X']]\n",
            "Enter row and column index: 2,0\n",
            "Board after 5 move\n",
            "[['O' ' ' ' ']\n",
            " ['O' 'X' ' ']\n",
            " ['X' ' ' 'X']]\n",
            "Board after 6 move\n",
            "[['O' ' ' 'O']\n",
            " ['O' 'X' ' ']\n",
            " ['X' ' ' 'X']]\n",
            "Enter row and column index: 2,1\n",
            "Board after 7 move\n",
            "[['O' ' ' 'O']\n",
            " ['O' 'X' ' ']\n",
            " ['X' 'X' 'X']]\n",
            "Winner: X\n"
          ]
        }
      ]
    },
    {
      "cell_type": "markdown",
      "source": [
        "# **BOT v/s BOT**"
      ],
      "metadata": {
        "id": "PcurE1TPXReV"
      }
    },
    {
      "cell_type": "code",
      "source": [
        "def create_board(size = 3 , initial_value = ' '):\n",
        "  return np.full((size,size),initial_value)"
      ],
      "metadata": {
        "id": "HF_N19-aXYFj"
      },
      "execution_count": 397,
      "outputs": []
    },
    {
      "cell_type": "code",
      "source": [
        "def play_game_bot():\n",
        "    board= create_board()\n",
        "    winner = 0\n",
        "    count = 1\n",
        "    print(board)\n",
        "    sleep(2)\n",
        "\n",
        "    while winner == 0:\n",
        "        for player in ['X', 'O']:\n",
        "            random_place(board,player)\n",
        "            print(\"Board after \" + str(count) + \" move\")\n",
        "            print(board)\n",
        "            sleep(2)\n",
        "            count += 1\n",
        "            winner = evaluate(board)\n",
        "            if winner != 0:\n",
        "                break\n",
        "    return(winner)"
      ],
      "metadata": {
        "id": "Nt5jEdYNXe9y"
      },
      "execution_count": 398,
      "outputs": []
    },
    {
      "cell_type": "code",
      "source": [
        "print(\"Winner: \" + play_game_bot())"
      ],
      "metadata": {
        "colab": {
          "base_uri": "https://localhost:8080/"
        },
        "id": "q2GjytxUXp6t",
        "outputId": "0ba93c2c-d182-45de-ac88-3c872061255a"
      },
      "execution_count": 399,
      "outputs": [
        {
          "output_type": "stream",
          "name": "stdout",
          "text": [
            "[[' ' ' ' ' ']\n",
            " [' ' ' ' ' ']\n",
            " [' ' ' ' ' ']]\n",
            "Board after 1 move\n",
            "[[' ' 'X' ' ']\n",
            " [' ' ' ' ' ']\n",
            " [' ' ' ' ' ']]\n",
            "Board after 2 move\n",
            "[[' ' 'X' ' ']\n",
            " [' ' ' ' 'O']\n",
            " [' ' ' ' ' ']]\n",
            "Board after 3 move\n",
            "[[' ' 'X' 'X']\n",
            " [' ' ' ' 'O']\n",
            " [' ' ' ' ' ']]\n",
            "Board after 4 move\n",
            "[[' ' 'X' 'X']\n",
            " [' ' ' ' 'O']\n",
            " ['O' ' ' ' ']]\n",
            "Board after 5 move\n",
            "[[' ' 'X' 'X']\n",
            " [' ' 'X' 'O']\n",
            " ['O' ' ' ' ']]\n",
            "Board after 6 move\n",
            "[[' ' 'X' 'X']\n",
            " [' ' 'X' 'O']\n",
            " ['O' 'O' ' ']]\n",
            "Board after 7 move\n",
            "[[' ' 'X' 'X']\n",
            " [' ' 'X' 'O']\n",
            " ['O' 'O' 'X']]\n",
            "Board after 8 move\n",
            "[['O' 'X' 'X']\n",
            " [' ' 'X' 'O']\n",
            " ['O' 'O' 'X']]\n",
            "Board after 9 move\n",
            "[['O' 'X' 'X']\n",
            " ['X' 'X' 'O']\n",
            " ['O' 'O' 'X']]\n",
            "Winner: Tie\n"
          ]
        }
      ]
    }
  ]
}